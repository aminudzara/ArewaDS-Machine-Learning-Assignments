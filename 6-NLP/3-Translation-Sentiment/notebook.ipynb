{
 "cells": [
  {
   "cell_type": "markdown",
   "id": "6468bc17",
   "metadata": {},
   "source": [
    "# Translation and sentiment analysis with ML\n",
    "\n",
    "In the previous lessons you learned how to build a basic bot using TextBlob, a library that embeds ML behind-the-scenes to perform basic NLP tasks such as noun phrase extraction. Another important challenge in computational linguistics is accurate translation of a sentence from one spoken or written language to another.\n",
    "\n",
    "Translation is a very hard problem compounded by the fact that there are thousands of languages and each can have very different grammar rules. One approach is to convert the formal grammar rules for one language, such as English, into a non-language dependent structure, and then translate it by converting back to another language. This approach means that you would take the following steps:\n",
    "\n",
    "1. **Identification**. Identify or tag the words in input language into nouns, verbs etc.\n",
    "2. **Create translation**. Produce a direct translation of each word in the target language format.\n",
    "\n",
    "### Example sentence, English to Irish\n",
    "\n",
    "In 'English', the sentence _I feel happy_ is three words in the order:\n",
    "\n",
    "- **subject** (I)\n",
    "- **verb** (feel)\n",
    "- **adjective** (happy)\n",
    "\n",
    "However, in the 'Irish' language, the same sentence has a very different grammatical structure - emotions like \"*happy*\" or \"*sad*\" are expressed as being *upon* you.\n",
    "\n",
    "The English phrase `I feel happy` in Irish would be `Tá athas orm`. A *literal* translation would be `Happy is upon me`.\n",
    "\n",
    "An Irish speaker translating to English would say `I feel happy`, not `Happy is upon me`, because they understand the meaning of the sentence, even if the words and sentence structure are different.\n",
    "\n",
    "The formal order for the sentence in Irish are:\n",
    "\n",
    "- **verb** (Tá or is)\n",
    "- **adjective** (athas, or happy)\n",
    "- **subject** (orm, or upon me)\n",
    "\n",
    "## Translation\n",
    "\n",
    "A naive translation program might translate words only, ignoring the sentence structure.\n",
    "\n",
    "✅ If you've learned a second (or third or more) language as an adult, you might have started by thinking in your native language, translating a concept word by word in your head to the second language, and then speaking out your translation. This is similar to what naive translation computer programs are doing. It's important to get past this phase to attain fluency!\n",
    "\n",
    "Naive translation leads to bad (and sometimes hilarious) mistranslations: `I feel happy` translates literally to `Mise bhraitheann athas` in Irish. That means (literally) `me feel happy` and is not a valid Irish sentence. Even though English and Irish are languages spoken on two closely neighboring islands, they are very different languages with different grammar structures.\n",
    "\n",
    "> You can watch some videos about Irish linguistic traditions such as [this one](https://www.youtube.com/watch?v=mRIaLSdRMMs)\n",
    "\n",
    "### Machine learning approaches\n",
    "\n",
    "So far, you've learned about the formal rules approach to natural language processing. Another approach is to ignore the meaning of the words, and _instead use machine learning to detect patterns_. This can work in translation if you have lots of text (a *corpus*) or texts (*corpora*) in both the origin and target languages.\n",
    "\n",
    "For instance, consider the case of *Pride and Prejudice*, a well-known English novel written by Jane Austen in 1813. If you consult the book in English and a human translation of the book in *French*, you could detect phrases in one that are _idiomatically_ translated into the other. You'll do that in a minute.\n",
    "\n",
    "For instance, when an English phrase such as `I have no money` is translated literally to French, it might become `Je n'ai pas de monnaie`. \"Monnaie\" is a tricky french 'false cognate', as 'money' and 'monnaie' are not synonymous. A better translation that a human might make would be `Je n'ai pas d'argent`, because it better conveys the meaning that you have no money (rather than 'loose change' which is the meaning of 'monnaie').\n",
    "\n",
    "![monnaie](images/monnaie.png)\n",
    "\n",
    "> Image by [Jen Looper](https://twitter.com/jenlooper)\n",
    "\n",
    "If an ML model has enough human translations to build a model on, it can improve the accuracy of translations by identifying common patterns in texts that have been previously translated by expert human speakers of both languages.\n",
    "\n",
    "### Exercise - translation\n",
    "\n",
    "You can use `GoogleTranslator` to translate sentences. Try the famous first line of **Pride and Prejudice**:"
   ]
  },
  {
   "cell_type": "code",
   "execution_count": 4,
   "id": "ed7cab8c",
   "metadata": {},
   "outputs": [
    {
     "name": "stdout",
     "output_type": "stream",
     "text": [
      "Collecting deep-translator\n",
      "  Downloading deep_translator-1.11.4-py3-none-any.whl.metadata (30 kB)\n",
      "Collecting beautifulsoup4<5.0.0,>=4.9.1 (from deep-translator)\n",
      "  Downloading beautifulsoup4-4.13.5-py3-none-any.whl.metadata (3.8 kB)\n",
      "Collecting requests<3.0.0,>=2.23.0 (from deep-translator)\n",
      "  Downloading requests-2.32.5-py3-none-any.whl.metadata (4.9 kB)\n",
      "Collecting soupsieve>1.2 (from beautifulsoup4<5.0.0,>=4.9.1->deep-translator)\n",
      "  Downloading soupsieve-2.7-py3-none-any.whl.metadata (4.6 kB)\n",
      "Requirement already satisfied: typing-extensions>=4.0.0 in c:\\users\\aminu\\miniconda3\\envs\\datascience\\lib\\site-packages (from beautifulsoup4<5.0.0,>=4.9.1->deep-translator) (4.12.2)\n",
      "Collecting charset_normalizer<4,>=2 (from requests<3.0.0,>=2.23.0->deep-translator)\n",
      "  Downloading charset_normalizer-3.4.3-cp313-cp313-win_amd64.whl.metadata (37 kB)\n",
      "Requirement already satisfied: idna<4,>=2.5 in c:\\users\\aminu\\miniconda3\\envs\\datascience\\lib\\site-packages (from requests<3.0.0,>=2.23.0->deep-translator) (3.10)\n",
      "Collecting urllib3<3,>=1.21.1 (from requests<3.0.0,>=2.23.0->deep-translator)\n",
      "  Downloading urllib3-2.5.0-py3-none-any.whl.metadata (6.5 kB)\n",
      "Requirement already satisfied: certifi>=2017.4.17 in c:\\users\\aminu\\miniconda3\\envs\\datascience\\lib\\site-packages (from requests<3.0.0,>=2.23.0->deep-translator) (2025.8.3)\n",
      "Downloading deep_translator-1.11.4-py3-none-any.whl (42 kB)\n",
      "Downloading beautifulsoup4-4.13.5-py3-none-any.whl (105 kB)\n",
      "Downloading requests-2.32.5-py3-none-any.whl (64 kB)\n",
      "Downloading charset_normalizer-3.4.3-cp313-cp313-win_amd64.whl (107 kB)\n",
      "Downloading urllib3-2.5.0-py3-none-any.whl (129 kB)\n",
      "Downloading soupsieve-2.7-py3-none-any.whl (36 kB)\n",
      "Installing collected packages: urllib3, soupsieve, charset_normalizer, requests, beautifulsoup4, deep-translator\n",
      "\n",
      "   ---------------------------------------- 0/6 [urllib3]\n",
      "   ---------------------------------------- 0/6 [urllib3]\n",
      "   ---------------------------------------- 0/6 [urllib3]\n",
      "   ---------------------------------------- 0/6 [urllib3]\n",
      "   ---------------------------------------- 0/6 [urllib3]\n",
      "   ------ --------------------------------- 1/6 [soupsieve]\n",
      "   ------------- -------------------------- 2/6 [charset_normalizer]\n",
      "   ------------- -------------------------- 2/6 [charset_normalizer]\n",
      "   -------------------- ------------------- 3/6 [requests]\n",
      "   -------------------------- ------------- 4/6 [beautifulsoup4]\n",
      "   -------------------------- ------------- 4/6 [beautifulsoup4]\n",
      "   --------------------------------- ------ 5/6 [deep-translator]\n",
      "   ---------------------------------------- 6/6 [deep-translator]\n",
      "\n",
      "Successfully installed beautifulsoup4-4.13.5 charset_normalizer-3.4.3 deep-translator-1.11.4 requests-2.32.5 soupsieve-2.7 urllib3-2.5.0\n",
      "Note: you may need to restart the kernel to use updated packages.\n"
     ]
    }
   ],
   "source": [
    "%pip install deep-translator"
   ]
  },
  {
   "cell_type": "markdown",
   "id": "166aae71",
   "metadata": {},
   "source": [
    "> I used GoogleTranslator because translate() method is no longer available in the latest TexBlob library!"
   ]
  },
  {
   "cell_type": "code",
   "execution_count": 2,
   "id": "d5c32f0b",
   "metadata": {},
   "outputs": [
    {
     "name": "stdout",
     "output_type": "stream",
     "text": [
      "C'est une vérité universellement reconnue, qu'un seul homme en possession d'une bonne fortune doit être dans le manque d'une femme!\n"
     ]
    }
   ],
   "source": [
    "from deep_translator import GoogleTranslator\n",
    "\n",
    "text = \"It is a truth universally acknowledged, that a single man in possession of a good fortune, must be in want of a wife!\"\n",
    "translated = GoogleTranslator(source='en', target='fr').translate(text)\n",
    "print(translated)"
   ]
  },
  {
   "cell_type": "markdown",
   "id": "f953b74c",
   "metadata": {},
   "source": [
    "GoogleTranslator does a pretty good job at the translation: \"C'est une vérité universellement reconnue, qu'un seul homme en possession d'une bonne fortune doit être dans le manque d'une femme!\n",
    "\".\n",
    "\n",
    "It can be argued that TextBlob's translation is far more exact, in fact, than the 1932 French translation of the book by V. Leconte and Ch. Pressoir:\n",
    "\n",
    "\"C'est une vérité universelle qu'un célibataire pourvu d'une belle fortune doit avoir envie de se marier, et, si peu que l'on sache de son sentiment à cet egard, lorsqu'il arrive dans une nouvelle résidence, cette idée est si bien fixée dans l'esprit de ses voisins qu'ils le considèrent sur-le-champ comme la propriété légitime de l'une ou l'autre de leurs filles.\"\n",
    "\n",
    "In this case, the translation informed by ML does a better job than the human translator who is unnecessarily putting words in the original author's mouth for 'clarity'.\n",
    "\n",
    "> What's going on here? and why is GoogleTranslator so good at translation? Well, it's using Google translate, a sophisticated AI able to parse millions of phrases to predict the best strings for the task at hand. There's nothing manual going on here and you need an internet connection to use `GoogleTranslator().translate()`.\n",
    "\n",
    "## Sentiment analysis\n",
    "\n",
    "Another area where machine learning can work very well is sentiment analysis. A non-ML approach to sentiment is to identify words and phrases which are 'positive' and 'negative'. Then, given a new piece of text, calculate the total value of the positive, negative and neutral words to identify the overall sentiment. \n",
    "\n",
    "This approach is easily tricked as you may have seen in the Marvin task - the sentence `Great, that was a wonderful waste of time, I'm glad we are lost on this dark road` is a sarcastic, negative sentiment sentence, but the simple algorithm detects 'great', 'wonderful', 'glad' as positive and 'waste', 'lost' and 'dark' as negative. The overall sentiment is swayed by these conflicting words.\n",
    "\n",
    "✅ Stop a second and think about how we convey sarcasm as human speakers. Tone inflection plays a large role. Try to say the phrase \"Well, that film was awesome\" in different ways to discover how your voice conveys meaning.\n",
    "\n",
    "### ML approaches\n",
    "\n",
    "The ML approach would be to manually gather negative and positive bodies of text - tweets, or movie reviews, or anything where the human has given a score *and* a written opinion. Then NLP techniques can be applied to opinions and scores, so that patterns emerge (e.g., positive movie reviews tend to have the phrase 'Oscar worthy' more than negative movie reviews, or positive restaurant reviews say 'gourmet' much more than 'disgusting').\n",
    "\n",
    "> ⚖️ **Example**: If you worked in a politician's office and there was some new law being debated, constituents might write to the office with emails supporting or emails against the particular new law. Let's say you are tasked with reading the emails and sorting them in 2 piles, *for* and *against*. If there were a lot of emails, you might be overwhelmed attempting to read them all. Wouldn't it be nice if a bot could read them all for you, understand them and tell you in which pile each email belonged? \n",
    ">\n",
    "> One way to achieve that is to use Machine Learning. You would train the model with a portion of the *against* emails and a portion of the *for* emails. The model would tend to associate phrases and words with the against side and the for side, *but it would not understand any of the content*, only that certain words and patterns were more likely to appear in an *against* or a *for* email. You could test it with some emails that you had not used to train the model, and see if it came to the same conclusion as you did. Then, once you were happy with the accuracy of the model, you could process future emails without having to read each one.\n",
    "\n",
    "### Exercise - sentimental sentences\n",
    "\n",
    "Sentiment is measured in with a *polarity* of -1 to 1, meaning -1 is the most negative sentiment, and 1 is the most positive. Sentiment is also measured with an 0 - 1 score for objectivity (0) and subjectivity (1).\n",
    "\n",
    "Take another look at Jane Austen's *Pride and Prejudice*. The text is available here at [Project Gutenberg](https://www.gutenberg.org/files/1342/1342-h/1342-h.htm). The sample below shows a short program which analyses the sentiment of first and last sentences from the book and display its sentiment polarity and subjectivity/objectivity score.\n",
    "\n",
    "You should use the `TextBlob` library (described above) to determine `sentiment` (you do not have to write your own sentiment calculator) in the following task."
   ]
  },
  {
   "cell_type": "code",
   "execution_count": 3,
   "id": "30f5bb4e",
   "metadata": {},
   "outputs": [
    {
     "name": "stdout",
     "output_type": "stream",
     "text": [
      "It is a truth universally acknowledged, that a single man in possession of a good fortune, must be in want of a wife. has a sentiment of Sentiment(polarity=0.20952380952380953, subjectivity=0.27142857142857146)\n",
      "Darcy, as well as Elizabeth, really loved them; and they were both ever sensible of the warmest gratitude towards the persons who, by bringing her into Derbyshire, had been the means of uniting them. has a sentiment of Sentiment(polarity=0.7, subjectivity=0.8)\n"
     ]
    }
   ],
   "source": [
    "from textblob import TextBlob\n",
    "\n",
    "quote1 = \"\"\"It is a truth universally acknowledged, that a single man in possession of a good fortune, must be in want of a wife.\"\"\"\n",
    "\n",
    "quote2 = \"\"\"Darcy, as well as Elizabeth, really loved them; and they were both ever sensible of the warmest gratitude towards the persons who, by bringing her into Derbyshire, had been the means of uniting them.\"\"\"\n",
    "\n",
    "sentiment1 = TextBlob(quote1).sentiment\n",
    "sentiment2 = TextBlob(quote2).sentiment\n",
    "\n",
    "print(quote1 + \" has a sentiment of \" + str(sentiment1))\n",
    "print(quote2 + \" has a sentiment of \" + str(sentiment2))"
   ]
  }
 ],
 "metadata": {
  "kernelspec": {
   "display_name": "datascience",
   "language": "python",
   "name": "python3"
  },
  "language_info": {
   "codemirror_mode": {
    "name": "ipython",
    "version": 3
   },
   "file_extension": ".py",
   "mimetype": "text/x-python",
   "name": "python",
   "nbconvert_exporter": "python",
   "pygments_lexer": "ipython3",
   "version": "3.13.5"
  }
 },
 "nbformat": 4,
 "nbformat_minor": 5
}
