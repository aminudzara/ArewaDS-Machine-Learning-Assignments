{
 "cells": [
  {
   "cell_type": "markdown",
   "metadata": {},
   "source": []
  },
  {
   "cell_type": "markdown",
   "metadata": {},
   "source": [
    "# Assignment: Evaluating Data from a Form\n",
    "\n",
    "A client has been testing a [small form](index.html) to gather some basic data about their client-base. They have brought their findings to you to validate the data they have gathered. You can open the `index.html` page in a browser to take a look at the form.\n",
    "\n",
    "You have been provided a [dataset of csv records](../../data/form.csv) that contain entries from the form as well as some basic visualizations.The client pointed out that some of the visualizations look incorrect but they're unsure about how to resolve them. You can explore it in the [assignment notebook](assignment.ipynb).\n",
    "\n",
    "## Instructions\n",
    "\n",
    "Use the techniques in this lesson to make recommendations about the form so it captures accurate and consistent information. "
   ]
  },
  {
   "cell_type": "code",
   "execution_count": null,
   "metadata": {},
   "outputs": [],
   "source": [
    "!pip install pandas\n",
    "!pip install matplotlib"
   ]
  },
  {
   "cell_type": "code",
   "execution_count": null,
   "metadata": {},
   "outputs": [],
   "source": [
    "import pandas as pd\n",
    "import matplotlib.pyplot as plt\n",
    "\n",
    "#Loading the dataset\n",
    "path = 'form.csv'\n",
    "form_df = pd.read_csv(path)\n",
    "print(form_df)"
   ]
  },
  {
   "cell_type": "code",
   "execution_count": null,
   "metadata": {},
   "outputs": [],
   "source": [
    "form_df['state'].value_counts().plot(kind='bar');\n",
    "plt.show()"
   ]
  },
  {
   "cell_type": "code",
   "execution_count": null,
   "metadata": {},
   "outputs": [],
   "source": [
    "form_df['birth_month'].value_counts().plot(kind='bar');\n",
    "plt.show()"
   ]
  },
  {
   "cell_type": "markdown",
   "metadata": {},
   "source": [
    "## Solution\n",
    "\n",
    "From the data exploration above, a number of issues are found:\n",
    "* Missing value in the first row.\n",
    "* Inconsistent formating in both the `birth_mont` and `state` columns, some entries are abbreviated while others are in full.\n",
    "\n",
    "To clean this data, drop the row with the missing value using `dropna()`, change the values in `birth_month` into full month names, and change the values in `state` into abbreviations. Finally, identify and remove any duplicate."
   ]
  },
  {
   "cell_type": "code",
   "execution_count": null,
   "metadata": {},
   "outputs": [],
   "source": [
    "# Drop rows with NaN values\n",
    "form_df = form_df.dropna()\n",
    "form_df"
   ]
  },
  {
   "cell_type": "code",
   "execution_count": null,
   "metadata": {},
   "outputs": [],
   "source": [
    "# Dictionary to map short month names to full names\n",
    "month_mapping = {\n",
    "    'JAN': 'January',\n",
    "    'Sept': 'September',\n",
    "}\n",
    "\n",
    "# Replace short forms with full forms\n",
    "form_df['birth_month'] = form_df['birth_month'].replace(month_mapping)\n",
    "form_df"
   ]
  },
  {
   "cell_type": "code",
   "execution_count": null,
   "metadata": {},
   "outputs": [],
   "source": [
    "# Dictionary to map full state names to abbreviations\n",
    "statw_mapping = {\n",
    "    'California': 'CA',\n",
    "    'Florida': 'FL',\n",
    "    'Hawaii': 'HI'\n",
    "}\n",
    "# Replace full state names with abbreviations\n",
    "form_df['state'] = form_df['state'].replace(statw_mapping)\n",
    "form_df"
   ]
  },
  {
   "cell_type": "code",
   "execution_count": null,
   "metadata": {},
   "outputs": [],
   "source": [
    "# Identify duplicate entries\n",
    "duplicates = form_df[form_df.duplicated()]\n",
    "duplicates"
   ]
  },
  {
   "cell_type": "code",
   "execution_count": null,
   "metadata": {},
   "outputs": [],
   "source": [
    "# Remove duplicate entries\n",
    "form_df = form_df.drop_duplicates()\n",
    "form_df"
   ]
  },
  {
   "cell_type": "markdown",
   "metadata": {},
   "source": [
    "Let's visualize the data again to confirm our solution."
   ]
  },
  {
   "cell_type": "code",
   "execution_count": null,
   "metadata": {},
   "outputs": [],
   "source": [
    "# Plot the cleaned data\n",
    "form_df['state'].value_counts().plot(kind='bar');\n",
    "plt.show()"
   ]
  },
  {
   "cell_type": "code",
   "execution_count": null,
   "metadata": {},
   "outputs": [],
   "source": [
    "# Plot the birth_month data\n",
    "form_df['birth_month'].value_counts().plot(kind='bar');\n",
    "plt.show()"
   ]
  }
 ],
 "metadata": {
  "kernelspec": {
   "display_name": "base",
   "language": "python",
   "name": "python3"
  },
  "language_info": {
   "codemirror_mode": {
    "name": "ipython",
    "version": 3
   },
   "file_extension": ".py",
   "mimetype": "text/x-python",
   "name": "python",
   "nbconvert_exporter": "python",
   "pygments_lexer": "ipython3",
   "version": "3.12.9"
  },
  "orig_nbformat": 4
 },
 "nbformat": 4,
 "nbformat_minor": 2
}
