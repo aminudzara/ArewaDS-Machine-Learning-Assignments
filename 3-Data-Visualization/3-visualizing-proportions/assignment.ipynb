{
 "cells": [
  {
   "cell_type": "markdown",
   "id": "9ffd6e21",
   "metadata": {},
   "source": [
    "# Try it in Excel\n",
    "\n",
    "## Instructions\n",
    "\n",
    "Did you know you can create donut, pie, and waffle charts in Excel? Using a dataset of your choice, create these three charts right in an Excel spreadsheet."
   ]
  }
 ],
 "metadata": {
  "language_info": {
   "name": "python"
  }
 },
 "nbformat": 4,
 "nbformat_minor": 5
}
